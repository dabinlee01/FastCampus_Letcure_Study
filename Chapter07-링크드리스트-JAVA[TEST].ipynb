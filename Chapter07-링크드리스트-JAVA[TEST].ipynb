{
 "cells": [
  {
   "cell_type": "markdown",
   "metadata": {},
   "source": [
    "<div class=\"alert alert-block\" style=\"border: 1px solid #455A64;background-color:#ECEFF1;padding:5px;font-size:0.9em;\">\n",
    "본 자료와 관련 영상 컨텐츠는 저작권법 제25조 2항에 의해 보호를 받습니다. <br>본 컨텐츠 및 컨텐츠 일부 문구 등을 외부에 공개하거나, 요약해서 게시하지 말아주세요.\n",
    "</div>"
   ]
  },
  {
   "cell_type": "markdown",
   "metadata": {},
   "source": [
    "## 대표적인 데이터 구조: 링크드 리스트 (Linked List)"
   ]
  },
  {
   "cell_type": "markdown",
   "metadata": {},
   "source": [
    "### 1. 링크드 리스트 (Linked List) 구조\n",
    "* 연결 리스트라고도 함\n",
    "* 배열은 순차적으로 연결된 공간에 데이터를 나열하는 데이터 구조\n",
    "* 링크드 리스트는 떨어진 곳에 존재하는 데이터를 화살표로 연결해서 관리하는 데이터 구조"
   ]
  },
  {
   "cell_type": "markdown",
   "metadata": {},
   "source": [
    "* 링크드 리스트 기본 구조와 용어\n",
    "  - 노드(Node): 데이터 저장 단위 (데이터값, 포인터) 로 구성\n",
    "  - 포인터(pointer): 각 노드 안에서, 다음이나 이전의 노드와의 연결 정보를 가지고 있는 공간\n",
    "\n",
    "<br>\n",
    "* 일반적인 링크드 리스트 형태\n",
    "<img src=\"https://www.fun-coding.org/00_Images/linkedlist.png\" />\n",
    "(출처: wikipedia, https://en.wikipedia.org/wiki/Linked_list)"
   ]
  },
  {
   "cell_type": "markdown",
   "metadata": {},
   "source": [
    "### 2. 간단한 링크드 리스트 예\n",
    "- 최대한 간단한 형태로 코드로 작성해보며 링크드 리스트를 이해해보기"
   ]
  },
  {
   "cell_type": "markdown",
   "metadata": {},
   "source": [
    "##### 2.1. Node 클래스 구현"
   ]
  },
  {
   "cell_type": "code",
   "execution_count": 1,
   "metadata": {},
   "outputs": [],
   "source": [
    "public class Node<T> {\n",
    "    T data;\n",
    "    Node<T> next = null;\n",
    "    \n",
    "    public Node(T data) {\n",
    "        this.data = data;\n",
    "    }\n",
    "}"
   ]
  },
  {
   "cell_type": "markdown",
   "metadata": {},
   "source": [
    "##### 2.2. Node와 Node 연결하기 : Node 인스턴스간 연결"
   ]
  },
  {
   "cell_type": "code",
   "execution_count": 3,
   "metadata": {},
   "outputs": [],
   "source": [
    "Node<Integer> node1 = new Node<>(1);\n",
    "Node<Integer> node2 = new Node<>(2);"
   ]
  },
  {
   "cell_type": "code",
   "execution_count": 4,
   "metadata": {},
   "outputs": [],
   "source": [
    "node1.next = node2;\n",
    "Node<Integer> head = node1;"
   ]
  },
  {
   "cell_type": "code",
   "execution_count": 5,
   "metadata": {},
   "outputs": [
    {
     "data": {
      "text/plain": [
       "REPL.$JShell$12$Node@322ca996"
      ]
     },
     "execution_count": 5,
     "metadata": {},
     "output_type": "execute_result"
    }
   ],
   "source": [
    "head"
   ]
  },
  {
   "cell_type": "markdown",
   "metadata": {},
   "source": [
    "##### 2.3. 링크드 리스트에 데이터 추가하기\n",
    "\n",
    "<div class=\"alert alert-block\" style=\"border: 1px solid #FFB300;background-color:#F9FBE7;font-size:1em;line-height:1.4em\">\n",
    "<font size=\"3em\" style=\"font-weight:bold;color:#3f8dbf;\">직접 만들어보며 이해하기</font>\n",
    "</div>"
   ]
  },
  {
   "cell_type": "code",
   "execution_count": 6,
   "metadata": {},
   "outputs": [],
   "source": [
    "public class SingleLinkedList<T> {\n",
    "    public Node<T> head = null;\n",
    "    \n",
    "    public class Node<T> {\n",
    "        T data;\n",
    "        Node<T> next = null;\n",
    "        \n",
    "        public Node(T data) {\n",
    "            this.data = data;\n",
    "        }\n",
    "    }\n",
    "    \n",
    "    public void addNode(T data) {\n",
    "        /* 작성해보기 */\n",
    "    }\n",
    "}"
   ]
  },
  {
   "cell_type": "code",
   "execution_count": 7,
   "metadata": {},
   "outputs": [
    {
     "data": {
      "text/plain": [
       "2"
      ]
     },
     "execution_count": 7,
     "metadata": {},
     "output_type": "execute_result"
    }
   ],
   "source": [
    "SingleLinkedList<Integer> MyLinkedList = new SingleLinkedList<Integer>();\n",
    "MyLinkedList.addNode(1);\n",
    "MyLinkedList.addNode(2);\n",
    "MyLinkedList.head.next.data"
   ]
  },
  {
   "cell_type": "markdown",
   "metadata": {},
   "source": [
    "##### 2.4. 링크드 리스트 데이터 출력하기\n",
    "\n",
    "<div class=\"alert alert-block\" style=\"border: 1px solid #FFB300;background-color:#F9FBE7;font-size:1em;line-height:1.4em\">\n",
    "<font size=\"3em\" style=\"font-weight:bold;color:#3f8dbf;\">직접 만들어보며 이해하기</font>\n",
    "</div>"
   ]
  },
  {
   "cell_type": "code",
   "execution_count": 8,
   "metadata": {},
   "outputs": [],
   "source": [
    "public class SingleLinkedList<T> {\n",
    "    public Node<T> head = null;\n",
    "    \n",
    "    public class Node<T> {\n",
    "        T data;\n",
    "        Node<T> next = null;\n",
    "        \n",
    "        public Node(T data) {\n",
    "            this.data = data;\n",
    "        }\n",
    "    }\n",
    "    \n",
    "    public void addNode(T data) {\n",
    "        /* 작성해보기 */\n",
    "    }\n",
    "    \n",
    "    public void printAll() {\n",
    "        /* 작성해보기 */\n",
    "    }\n",
    "}"
   ]
  },
  {
   "cell_type": "code",
   "execution_count": 9,
   "metadata": {},
   "outputs": [
    {
     "name": "stdout",
     "output_type": "stream",
     "text": [
      "1\n",
      "2\n",
      "3\n"
     ]
    }
   ],
   "source": [
    "SingleLinkedList<Integer> MyLinkedList = new SingleLinkedList<Integer>();\n",
    "MyLinkedList.addNode(1);\n",
    "MyLinkedList.addNode(2);\n",
    "MyLinkedList.addNode(3);\n",
    "\n",
    "MyLinkedList.printAll();"
   ]
  },
  {
   "cell_type": "markdown",
   "metadata": {},
   "source": [
    "### 3. 링크드 리스트의 장단점 (전통적인 C언어에서의 배열과 링크드 리스트)\n",
    "* 장점\n",
    "  - 미리 데이터 공간을 미리 할당하지 않아도 됨\n",
    "    - 배열은 **미리 데이터 공간을 할당** 해야 함\n",
    "* 단점\n",
    "  - 연결을 위한 별도 데이터 공간이 필요하므로, 저장공간 효율이 높지 않음\n",
    "  - 연결 정보를 찾는 시간이 필요하므로 접근 속도가 느림\n",
    "  - 중간 데이터 삭제시, 앞뒤 데이터의 연결을 재구성해야 하는 부가적인 작업 필요"
   ]
  },
  {
   "cell_type": "markdown",
   "metadata": {},
   "source": [
    "### 4. 링크드 리스트의 복잡한 기능 (링크드 리스트 데이터 사이에 데이터를 추가)\n",
    "- 링크드 리스트는 유지 관리에 부가적인 구현이 필요함\n",
    "\n",
    "<img src=\"https://www.fun-coding.org/00_Images/linkedlistadd.png\" />\n",
    "(출처: wikipedia, https://en.wikipedia.org/wiki/Linked_list)\n",
    "\n",
    "<div class=\"alert alert-block\" style=\"border: 1px solid #FFB300;background-color:#F9FBE7;font-size:1em;line-height:1.4em\">\n",
    "<font size=\"3em\" style=\"font-weight:bold;color:#3f8dbf;\">직접 만들어보며 이해하기</font>\n",
    "</div>"
   ]
  },
  {
   "cell_type": "code",
   "execution_count": 10,
   "metadata": {},
   "outputs": [],
   "source": [
    "public class SingleLinkedList<T> {\n",
    "    public Node<T> head = null;\n",
    "    \n",
    "    public class Node<T> {\n",
    "        T data;\n",
    "        Node<T> next = null;\n",
    "        \n",
    "        public Node(T data) {\n",
    "            this.data = data;\n",
    "        }\n",
    "    }\n",
    "    \n",
    "    public void addNode(T data) {\n",
    "        /* 작성해보기 */\n",
    "    }\n",
    "    \n",
    "    public void printAll() {\n",
    "        /* 작성해보기 */\n",
    "    }\n",
    "    \n",
    "    public Node<T> search(T data) {\n",
    "        /* 작성해보기 */\n",
    "    }\n",
    "    \n",
    "    public void addNodeInside(T data, T isData) {\n",
    "        /* 작성해보기 */\n",
    "    }\n",
    "}"
   ]
  },
  {
   "cell_type": "markdown",
   "metadata": {},
   "source": [
    "- 링크드리스트 생성하고, 1, 2, 3 데이터 넣기"
   ]
  },
  {
   "cell_type": "code",
   "execution_count": 11,
   "metadata": {},
   "outputs": [
    {
     "name": "stdout",
     "output_type": "stream",
     "text": [
      "1\n",
      "2\n",
      "3\n"
     ]
    }
   ],
   "source": [
    "SingleLinkedList<Integer> MyLinkedList = new SingleLinkedList<Integer>();\n",
    "MyLinkedList.addNode(1);\n",
    "MyLinkedList.addNode(2);\n",
    "MyLinkedList.addNode(3);\n",
    "\n",
    "MyLinkedList.printAll();"
   ]
  },
  {
   "cell_type": "markdown",
   "metadata": {},
   "source": [
    "- 1 데이터 뒤에 5 넣어보기"
   ]
  },
  {
   "cell_type": "code",
   "execution_count": 12,
   "metadata": {},
   "outputs": [
    {
     "name": "stdout",
     "output_type": "stream",
     "text": [
      "1\n",
      "5\n",
      "2\n",
      "3\n"
     ]
    }
   ],
   "source": [
    "MyLinkedList.addNodeInside(5, 1);\n",
    "MyLinkedList.printAll();"
   ]
  },
  {
   "cell_type": "markdown",
   "metadata": {},
   "source": [
    "- 3 데이터 뒤에 6 넣어보기"
   ]
  },
  {
   "cell_type": "code",
   "execution_count": 13,
   "metadata": {},
   "outputs": [
    {
     "name": "stdout",
     "output_type": "stream",
     "text": [
      "1\n",
      "5\n",
      "2\n",
      "3\n",
      "6\n"
     ]
    }
   ],
   "source": [
    "MyLinkedList.addNodeInside(6, 3);\n",
    "MyLinkedList.printAll();"
   ]
  },
  {
   "cell_type": "markdown",
   "metadata": {},
   "source": [
    "- 없는 데이터를 찾도록 해서, 맨 마지막에 데이터 넣기"
   ]
  },
  {
   "cell_type": "code",
   "execution_count": 14,
   "metadata": {},
   "outputs": [
    {
     "name": "stdout",
     "output_type": "stream",
     "text": [
      "1\n",
      "5\n",
      "2\n",
      "3\n",
      "6\n",
      "7\n"
     ]
    }
   ],
   "source": [
    "MyLinkedList.addNodeInside(7, 20);\n",
    "MyLinkedList.printAll();"
   ]
  },
  {
   "cell_type": "markdown",
   "metadata": {},
   "source": [
    "### 5. 참고: 다양한 링크드 리스트 구조: 더블 링크드 리스트(Doubly linked list)\n",
    "* 더블 링크드 리스트(Doubly linked list) 기본 구조 \n",
    "  - 이중 연결 리스트라고도 함\n",
    "  - 장점: 양방향으로 연결되어 있어서 노드 탐색이 양쪽으로 모두 가능\n",
    "  <br>\n",
    "<img src=\"https://www.fun-coding.org/00_Images/doublelinkedlist.png\" />\n",
    "(출처: wikipedia, https://en.wikipedia.org/wiki/Linked_list)"
   ]
  },
  {
   "cell_type": "markdown",
   "metadata": {},
   "source": [
    "### Quiz\n",
    "- 다음은 단일 연결 리스트에서 노드를 나타내는 Node 클래스입니다\n",
    "```java\n",
    "public class Node {\n",
    "    int value;\n",
    "    Node next;\n",
    "\n",
    "    public Node(int value) {\n",
    "        this.value = value;\n",
    "        this.next = null;\n",
    "    }\n",
    "}\n",
    "```\n",
    "- 주어진 노드 다음에 주어진 값을 가진 새 노드를 삽입하는 다음 insertAfter 메서드를 Node 클래스에 추가하세요.\n",
    "```java\n",
    "public void insertAfter(int value)\n",
    "```\n",
    "- 다음은 insertAfter 메서드가 어떻게 작동해야 하는지 나타내는 예시입니다\n",
    "\n",
    "```java\n",
    "Node node1 = new Node(1);\n",
    "Node node2 = new Node(2);\n",
    "node1.next = node2;\n",
    "\n",
    "node1.insertAfter(3); // node1 다음에 값을 3으로 갖는 새 노드를 삽입합니다.\n",
    "// 리스트는 이제 값이 [1, 3, 2]인 노드를 가집니다.\n",
    "```\n",
    "- 이 문제를 해결하기 위해 Node 클래스에 insertAfter 메서드의 코드를 추가하세요."
   ]
  },
  {
   "cell_type": "markdown",
   "metadata": {},
   "source": [
    "<div class=\"alert alert-block\" style=\"border: 1px solid #455A64;background-color:#ECEFF1;padding:5px;font-size:0.9em;\">\n",
    "본 자료와 관련 영상 컨텐츠는 저작권법 제25조 2항에 의해 보호를 받습니다. <br>본 컨텐츠 및 컨텐츠 일부 문구 등을 외부에 공개하거나, 요약해서 게시하지 말아주세요.\n",
    "</div>"
   ]
  }
 ],
 "metadata": {
  "kernelspec": {
   "display_name": "Java",
   "language": "java",
   "name": "java"
  },
  "language_info": {
   "codemirror_mode": "java",
   "file_extension": ".jshell",
   "mimetype": "text/x-java-source",
   "name": "Java",
   "pygments_lexer": "java",
   "version": "15.0.2+7-27"
  }
 },
 "nbformat": 4,
 "nbformat_minor": 4
}
