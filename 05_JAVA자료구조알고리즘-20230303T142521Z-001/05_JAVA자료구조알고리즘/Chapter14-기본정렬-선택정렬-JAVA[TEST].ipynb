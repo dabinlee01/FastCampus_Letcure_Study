{
 "cells": [
  {
   "cell_type": "markdown",
   "metadata": {},
   "source": [
    "<div class=\"alert alert-block\" style=\"border: 1px solid #455A64;background-color:#ECEFF1;padding:5px;font-size:0.9em;\">\n",
    "본 자료와 관련 영상 컨텐츠는 저작권법 제25조 2항에 의해 보호를 받습니다. <br>본 컨텐츠 및 컨텐츠 일부 문구 등을 외부에 공개하거나, 요약해서 게시하지 말아주세요.<br>\n",
    "    <a href='https://www.fun-coding.org'>잔재미코딩(www.fun-coding.org) Dave Lee</a>\n",
    "</div>"
   ]
  },
  {
   "cell_type": "markdown",
   "metadata": {},
   "source": [
    "## 대표적인 정렬3: 선택 정렬 (selection sort) "
   ]
  },
  {
   "cell_type": "markdown",
   "metadata": {},
   "source": [
    "### 1. 선택 정렬 (selection sort) 란?\n",
    "* 다음과 같은 순서를 반복하며 정렬하는 알고리즘\n",
    "  1. 주어진 데이터 중, 최소값을 찾음\n",
    "  2. 해당 최소값을 데이터 맨 앞에 위치한 값과 교체함\n",
    "  3. 맨 앞의 위치를 뺀 나머지 데이터를 동일한 방법으로 반복함\n",
    "\n",
    "#### 직접 눈으로 보면 더 이해가 쉽다: https://visualgo.net/en/sorting\n",
    "\n",
    "<img src=\"https://upload.wikimedia.org/wikipedia/commons/9/94/Selection-Sort-Animation.gif\" width=100>\n",
    "\n",
    "출처: https://en.wikipedia.org/wiki/Selection_sort"
   ]
  },
  {
   "cell_type": "markdown",
   "metadata": {},
   "source": [
    "### 2. 어떻게 코드로 만들까?"
   ]
  },
  {
   "cell_type": "markdown",
   "metadata": {},
   "source": [
    "> 간단히 로직에 집중해서, 각각 데이터가 저장되어 있는 배열이 있다고 가정한다면, \n",
    "\n",
    "* 데이터가 두 개 일때\n",
    "  - 예: dataList = [9, 1]\n",
    "    - dataList[0] > dataList[1] 이므로 dataList[0] 값과 dataList[1] 값을 교환\n",
    "* 데이터가 세 개 일때\n",
    "  - 예: dataList = [9, 1, 7]\n",
    "    - 처음 한번 실행하면, 1, 9, 7 이 됨\n",
    "    - 두 번째 실행하면, 1, 7, 9 가 됨\n",
    "* 데이터가 네 개 일때\n",
    "  - 예: dataList = [9, 3, 2, 1]\n",
    "    - 처음 한번 실행하면, 1, 3, 2, 9 가 됨\n",
    "    - 두 번째 실행하면, 1, 2, 3, 9 가 됨\n",
    "    - 세 번째 실행하면, 변화 없음"
   ]
  },
  {
   "cell_type": "markdown",
   "metadata": {},
   "source": [
    "<div class=\"alert alert-block\" style=\"border: 1px solid #FFB300;background-color:#F9FBE7;font-size:1em;line-height:1.4em\">\n",
    "<font size=\"4em\" style=\"font-weight:bold;color:#3f8dbf;\">연습해보기1</font><br><br>\n",
    "- 데이터가 두 개일 때 동작하는 선택 정렬 알고리즘을 함수로 만들어보세요\n",
    "</div>\n",
    "<pre>\n",
    "* 데이터가 두 개일 때\n",
    "  - 예: dataList = [9, 1]\n",
    "    - dataList[0] > dataList[1] 이므로 dataList[0] 값과 dataList[1] 값을 교환\n",
    "</pre>"
   ]
  },
  {
   "cell_type": "code",
   "execution_count": 1,
   "metadata": {},
   "outputs": [
    {
     "name": "stdout",
     "output_type": "stream",
     "text": [
      "[1, 9]\n"
     ]
    }
   ],
   "source": [
    "import java.util.ArrayList;\n",
    "import java.util.Collections;\n",
    "\n",
    "ArrayList<Integer> dataList = new ArrayList<>();\n",
    "dataList.add(9);\n",
    "dataList.add(1);\n",
    "\n",
    "if (dataList.get(0) > dataList.get(1)) {\n",
    "    Collections.swap(dataList, 0, 1);\n",
    "}\n",
    "System.out.println(dataList)"
   ]
  },
  {
   "cell_type": "markdown",
   "metadata": {},
   "source": [
    "<div class=\"alert alert-block\" style=\"border: 1px solid #FFB300;background-color:#F9FBE7;font-size:1em;line-height:1.4em\">\n",
    "<font size=\"4em\" style=\"font-weight:bold;color:#3f8dbf;\">연습해보기2</font><br><br>\n",
    "- 데이터가 세 개일 때 동작하는 선택 정렬 알고리즘을 함수로 만들어보세요\n",
    "</div>\n",
    "<pre>\n",
    "* 데이터가 세 개일 때\n",
    "  - 예: dataList = [9, 1, 7]\n",
    "    - 처음 한번 실행하면, 1, 9, 7 이 됨\n",
    "    - 두 번째 실행하면, 1, 7, 9 가 됨\n",
    "</pre>"
   ]
  },
  {
   "cell_type": "code",
   "execution_count": 2,
   "metadata": {},
   "outputs": [
    {
     "name": "stdout",
     "output_type": "stream",
     "text": [
      "[1, 7, 9]\n"
     ]
    }
   ],
   "source": [
    "import java.util.ArrayList;\n",
    "import java.util.Collections;\n",
    "\n",
    "ArrayList<Integer> dataList = new ArrayList<>();\n",
    "dataList.add(9);\n",
    "dataList.add(1);\n",
    "dataList.add(7);\n",
    "\n",
    "int lowest = 0;\n",
    "for (int index = 1; index < dataList.size(); index++) {\n",
    "    if (dataList.get(lowest) > dataList.get(index)) {\n",
    "        lowest = index;\n",
    "    }\n",
    "}\n",
    "Collections.swap(dataList, 0, lowest);\n",
    "\n",
    "int lowest = 1;\n",
    "for (int index = 2; index < dataList.size(); index++) {\n",
    "    if (dataList.get(lowest) > dataList.get(index)) {\n",
    "        lowest = index;\n",
    "    }\n",
    "}\n",
    "Collections.swap(dataList, 1, lowest);\n",
    "System.out.println(dataList)"
   ]
  },
  {
   "cell_type": "markdown",
   "metadata": {},
   "source": [
    "<div class=\"alert alert-block\" style=\"border: 1px solid #FFB300;background-color:#F9FBE7;font-size:1em;line-height:1.4em\">\n",
    "<font size=\"4em\" style=\"font-weight:bold;color:#3f8dbf;\">연습해보기3</font><br><br>\n",
    "- 데이터가 네 개일 때 동작하는 선택 정렬 알고리즘을 함수로 만들어보세요\n",
    "</div>\n",
    "<pre>\n",
    "* 데이터가 네 개 일때\n",
    "  - 예: dataList = [9, 3, 2, 1]\n",
    "    - 처음 한번 실행하면, 1, 3, 2, 9 가 됨\n",
    "    - 두 번째 실행하면, 1, 2, 3, 9 가 됨\n",
    "    - 세 번째 실행하면, 변화 없음\n",
    "</pre>"
   ]
  },
  {
   "cell_type": "markdown",
   "metadata": {},
   "source": [
    "### 3. 알고리즘 구현 (프로젝트: CH15_SELECTIONSORT)\n",
    "1. for (int stand = 0; stand < dataList.size() - 1; stand++) 로 반복\n",
    "2. lowest = stand 로 놓고,\n",
    "3. for (int index = stand + 1; index < dataList.size(); index++) 로, stand 이후부터 반복\n",
    "   - 내부 반복문 안에서 dataList[lowest] > dataList[index] 이면, \n",
    "     - lowest = index\n",
    "4. dataList[stand] 와 dataList[lowest] 스왑"
   ]
  },
  {
   "cell_type": "code",
   "execution_count": 3,
   "metadata": {},
   "outputs": [],
   "source": [
    "import java.util.ArrayList;\n",
    "import java.util.Collections;\n",
    "\n",
    "public class SelectionSort {\n",
    "    public ArrayList<Integer> sort(ArrayList<Integer> dataList) {\n",
    "        int lowest;\n",
    "        for (int stand = 0; stand < dataList.size() - 1; stand++) {\n",
    "            /* 한번 고민해서 작성해보세요 */\n",
    "        }\n",
    "        return dataList;\n",
    "    }\n",
    "}"
   ]
  },
  {
   "cell_type": "markdown",
   "metadata": {},
   "source": [
    "### 테스트"
   ]
  },
  {
   "cell_type": "code",
   "execution_count": 4,
   "metadata": {},
   "outputs": [
    {
     "data": {
      "text/plain": [
       "[0, 2, 3, 5, 8, 8, 8, 10, 13, 13, 15, 15, 15, 17, 18, 19, 21, 22, 22, 23, 24, 25, 25, 26, 26, 30, 31, 32, 32, 34, 37, 38, 38, 39, 40, 42, 42, 43, 43, 44, 44, 45, 46, 46, 49, 50, 51, 52, 52, 53, 55, 56, 59, 60, 61, 62, 62, 65, 66, 68, 69, 69, 71, 71, 72, 73, 75, 76, 76, 76, 76, 77, 77, 77, 78, 79, 80, 80, 80, 81, 82, 82, 83, 83, 85, 86, 86, 87, 90, 90, 91, 93, 93, 95, 95, 96, 96, 97, 98, 99]"
      ]
     },
     "execution_count": 4,
     "metadata": {},
     "output_type": "execute_result"
    }
   ],
   "source": [
    "ArrayList<Integer> testData = new ArrayList<Integer>();\n",
    "\n",
    "for (int i = 0; i < 100; i++) {\n",
    "    testData.add((int)(Math.random() * 100));\n",
    "}\n",
    "SelectionSort sSort = new SelectionSort();\n",
    "sSort.sort(testData);"
   ]
  },
  {
   "cell_type": "markdown",
   "metadata": {},
   "source": [
    "### 4. 알고리즘 분석\n",
    "* 반복문이 두 개 O($n^2$)\n",
    "  - 실제로 상세하게 계산하면, <font size=5em>$\\frac { n * (n - 1)}{ 2 }$</font>"
   ]
  },
  {
   "cell_type": "markdown",
   "metadata": {},
   "source": [
    "<div class=\"alert alert-block\" style=\"border: 1px solid #FFB300;background-color:#F9FBE7;font-size:1em;line-height:1.4em\">\n",
    "<font size=\"4em\" style=\"font-weight:bold;color:#3f8dbf;\">프로그래밍 연습</font><br><br>\n",
    "- 설명한 선택 정렬을 알고리즘 연습 방법에 따라서, 관련 코드를 보지 않고, 직접 생각해서, 알고리즘 연습 방법에 따라, 작성해보세요\n",
    "</div>"
   ]
  },
  {
   "cell_type": "markdown",
   "metadata": {},
   "source": [
    "<div class=\"alert alert-block\" style=\"border: 1px solid #455A64;background-color:#ECEFF1;padding:5px;font-size:0.9em;\">\n",
    "본 자료와 관련 영상 컨텐츠는 저작권법 제25조 2항에 의해 보호를 받습니다. <br>본 컨텐츠 및 컨텐츠 일부 문구 등을 외부에 공개하거나, 요약해서 게시하지 말아주세요.<br>\n",
    "    <a href='https://www.fun-coding.org'>잔재미코딩(www.fun-coding.org) Dave Lee</a>\n",
    "</div>"
   ]
  }
 ],
 "metadata": {
  "kernelspec": {
   "display_name": "Java",
   "language": "java",
   "name": "java"
  },
  "language_info": {
   "codemirror_mode": "java",
   "file_extension": ".jshell",
   "mimetype": "text/x-java-source",
   "name": "Java",
   "pygments_lexer": "java",
   "version": "15.0.2+7-27"
  }
 },
 "nbformat": 4,
 "nbformat_minor": 4
}
