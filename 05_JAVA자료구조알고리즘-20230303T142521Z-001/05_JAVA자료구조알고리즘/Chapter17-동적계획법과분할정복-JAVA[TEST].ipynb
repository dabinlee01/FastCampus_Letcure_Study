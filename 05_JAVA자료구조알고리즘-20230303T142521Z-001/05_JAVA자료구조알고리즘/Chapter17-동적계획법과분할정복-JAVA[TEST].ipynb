{
 "cells": [
  {
   "cell_type": "markdown",
   "metadata": {},
   "source": [
    "<div class=\"alert alert-block\" style=\"border: 1px solid #455A64;background-color:#ECEFF1;padding:5px;font-size:0.9em;\">\n",
    "본 자료와 관련 영상 컨텐츠는 저작권법 제25조 2항에 의해 보호를 받습니다. <br>본 컨텐츠 및 컨텐츠 일부 문구 등을 외부에 공개하거나, 요약해서 게시하지 말아주세요.<br>\n",
    "    <a href='https://www.fun-coding.org'>잔재미코딩(www.fun-coding.org) Dave Lee</a>\n",
    "</div>"
   ]
  },
  {
   "cell_type": "markdown",
   "metadata": {},
   "source": [
    "## 동적 계획법 (Dynamic Programming)과 분할 정복 (Divide and Conquer)"
   ]
  },
  {
   "cell_type": "markdown",
   "metadata": {},
   "source": [
    "### 1. 정의\n",
    "- 동적계획법 (DP 라고 많이 부름)\n",
    "  - 입력 크기가 작은 부분 문제들을 해결한 후, 해당 부분 문제의 해를 활용해서, 보다 큰 크기의 부분 문제를 해결, 최종적으로 전체 문제를 해결하는 알고리즘\n",
    "  - 상향식 접근법으로, 가장 최하위 해답을 구한 후, 이를 저장하고, 해당 결과값을 이용해서 상위 문제를 풀어가는 방식 \n",
    "  - Memoization 기법을 사용함\n",
    "    - Memoization (메모이제이션) 이란: 프로그램 실행 시 이전에 계산한 값을 저장하여, 다시 계산하지 않도록 하여 전체 실행 속도를 빠르게 하는 기술\n",
    "  - 문제를 잘게 쪼갤 때, 부분 문제는 중복되어, 재활용됨\n",
    "    - 예: 피보나치 수열\n",
    "- 분할 정복\n",
    "  - 문제를 나눌 수 없을 때까지 나누어서 각각을 풀면서 다시 합병하여 문제의 답을 얻는 알고리즘\n",
    "  - 하양식 접근법으로, 상위의 해답을 구하기 위해, 아래로 내려가면서 하위의 해답을 구하는 방식\n",
    "    - 일반적으로 재귀함수로 구현\n",
    "  - 문제를 잘게 쪼갤 때, 부분 문제는 서로 중복되지 않음\n",
    "    - 예: 병합 정렬, 퀵 정렬 등"
   ]
  },
  {
   "cell_type": "markdown",
   "metadata": {},
   "source": [
    "### 2. 공통점과 차이점\n",
    "- 공통점\n",
    "  - 문제를 잘게 쪼개서, 가장 작은 단위로 분할\n",
    "- 차이점\n",
    "  - 동적 계획법\n",
    "    - 부분 문제는 중복되어, 상위 문제 해결 시 재활용됨\n",
    "    - Memoization 기법 사용 (부분 문제의 해답을 저장해서 재활용하는 최적화 기법으로 사용)\n",
    "  - 분할 정복\n",
    "    - 부분 문제는 서로 중복되지 않음\n",
    "    - Memoization 기법 사용 안함"
   ]
  },
  {
   "cell_type": "markdown",
   "metadata": {},
   "source": [
    "### 3. 동적 계획법 알고리즘 이해"
   ]
  },
  {
   "cell_type": "markdown",
   "metadata": {},
   "source": [
    "<div class=\"alert alert-block\" style=\"border: 1px solid #FFB300;background-color:#F9FBE7;font-size:1em;line-height:1.4em\">\n",
    "<font size=\"4em\" style=\"font-weight:bold;color:#3f8dbf;\">프로그래밍 연습</font><br><br>\n",
    "- 피보나치 수열: n 을 입력받아서 다음과 같이 계산됨<br>\n",
    "- n 을 입력받았을 때 피보나치 수열로 결과값을 출력하세요<br>\n",
    "<img src=\"https://www.fun-coding.org/00_Images/Fibonacci.png\" />\n",
    "<pre>\n",
    "함수를 fibonacci 라고 하면,\n",
    "fibonacci(0):0\n",
    "fibonacci(1):1\n",
    "fibonacci(2):1\n",
    "fibonacci(3):2\n",
    "fibonacci(4):3\n",
    "fibonacci(5):5\n",
    "fibonacci(6):8\n",
    "fibonacci(7):13\n",
    "fibonacci(8):21\n",
    "fibonacci(9):34\n",
    "</pre>\n",
    "    </div>\n"
   ]
  },
  {
   "cell_type": "markdown",
   "metadata": {
    "collapsed": true
   },
   "source": [
    "<img src=\"https://www.fun-coding.org/00_Images/dp.png\" />"
   ]
  },
  {
   "cell_type": "markdown",
   "metadata": {},
   "source": [
    "### recursive call 활용"
   ]
  },
  {
   "cell_type": "code",
   "execution_count": 6,
   "metadata": {},
   "outputs": [],
   "source": [
    "public class Factorial {\n",
    "    public int factorialFunc(int data) {\n",
    "        if (data <= 1) {\n",
    "            return data;\n",
    "        }\n",
    "        return this.factorialFunc(data - 1) + this.factorialFunc(data - 2);\n",
    "    }\n",
    "}"
   ]
  },
  {
   "cell_type": "code",
   "execution_count": 7,
   "metadata": {},
   "outputs": [
    {
     "data": {
      "text/plain": [
       "55"
      ]
     },
     "execution_count": 7,
     "metadata": {},
     "output_type": "execute_result"
    }
   ],
   "source": [
    "Factorial fObject = new Factorial();\n",
    "fObject.factorialFunc(10);"
   ]
  },
  {
   "cell_type": "markdown",
   "metadata": {},
   "source": [
    "### 동적 계획법 활용"
   ]
  },
  {
   "cell_type": "code",
   "execution_count": 8,
   "metadata": {},
   "outputs": [],
   "source": [
    "public class Dynamic {\n",
    "    public int dynamicFunc(int data) {\n",
    "        Integer[] cache = new Integer[data + 1];\n",
    "        cache[0] = 0;\n",
    "        cache[1] = 1;\n",
    "        for (int index = 2; index < data + 1; index++) {\n",
    "            cache[index] = cache[index - 1] + cache[index - 2];\n",
    "        }\n",
    "        return cache[data];\n",
    "    }   \n",
    "}"
   ]
  },
  {
   "cell_type": "code",
   "execution_count": 9,
   "metadata": {},
   "outputs": [
    {
     "data": {
      "text/plain": [
       "55"
      ]
     },
     "execution_count": 9,
     "metadata": {},
     "output_type": "execute_result"
    }
   ],
   "source": [
    "Dynamic dObject = new Dynamic();\n",
    "dObject.dynamicFunc(10);"
   ]
  },
  {
   "cell_type": "markdown",
   "metadata": {},
   "source": [
    "<div class=\"alert alert-block\" style=\"border: 1px solid #FFB300;background-color:#F9FBE7;font-size:1em;line-height:1.4em\">\n",
    "<font size=\"4em\" style=\"font-weight:bold;color:#3f8dbf;\">연습해보기: </font><br><br>\n",
    "- 정수 4를 1, 2, 3의 조합으로 나타내는 방법은 다음과 같이 총 7가지가 있음\n",
    "- 정수 n이 입력으로 주어졌을 때, n을 1, 2, 3의 합으로 나타낼 수 있는 방법의 수를 구하시오\n",
    "<pre>\n",
    "1+1+1+1\n",
    "1+1+2\n",
    "1+2+1\n",
    "2+1+1\n",
    "2+2\n",
    "1+3\n",
    "3+1\n",
    "</pre>    \n",
    "\n",
    "힌트: 정수 n을 만들 수 있는 경우의 수를 리턴하는 함수를 f(n) 이라고 하면,<br>\n",
    "f(n)은 f(n-1) + f(n-2) + f(n-3) 과 동일하다는 패턴 찾기<br>\n",
    "출처: https://www.acmicpc.net/problem/9095\n",
    "</div>"
   ]
  },
  {
   "cell_type": "markdown",
   "metadata": {},
   "source": [
    "### 재귀용법으로 풀어보기"
   ]
  },
  {
   "cell_type": "code",
   "execution_count": 11,
   "metadata": {},
   "outputs": [],
   "source": [
    "public class Recursive {\n",
    "    public int recursiveFunc(int data) {\n",
    "        if (data == 1) {\n",
    "            return 1;\n",
    "        } else if (data == 2) {\n",
    "            return 2;\n",
    "        } else if (data == 3) {\n",
    "            return 4;\n",
    "        }\n",
    "        \n",
    "        return /* 한번 고민해서 작성해보세요 */\n",
    "    }\n",
    "}"
   ]
  },
  {
   "cell_type": "code",
   "execution_count": 14,
   "metadata": {},
   "outputs": [
    {
     "name": "stdout",
     "output_type": "stream",
     "text": [
      "7\n",
      "44\n",
      "274\n"
     ]
    }
   ],
   "source": [
    "Recursive rObject = new Recursive();\n",
    "System.out.println(rObject.recursiveFunc(4));\n",
    "System.out.println(rObject.recursiveFunc(7));\n",
    "System.out.println(rObject.recursiveFunc(10));"
   ]
  },
  {
   "cell_type": "markdown",
   "metadata": {},
   "source": [
    "### 동적 계획법으로 풀어보기"
   ]
  },
  {
   "cell_type": "code",
   "execution_count": 15,
   "metadata": {},
   "outputs": [],
   "source": [
    "public class Dynamic {\n",
    "    public int dynamicFunc(int data) {\n",
    "        Integer[] cache = new Integer[data + 1];\n",
    "        cache[1] = 1;\n",
    "        cache[2] = 2;\n",
    "        cache[3] = 4;        \n",
    "        /* 한번 고민해서 작성해보세요 */\n",
    "        return cache[data];\n",
    "    }   \n",
    "}"
   ]
  },
  {
   "cell_type": "code",
   "execution_count": 16,
   "metadata": {},
   "outputs": [
    {
     "name": "stdout",
     "output_type": "stream",
     "text": [
      "7\n",
      "44\n",
      "274\n"
     ]
    }
   ],
   "source": [
    "Dynamic dObject = new Dynamic();\n",
    "System.out.println(dObject.dynamicFunc(4));\n",
    "System.out.println(dObject.dynamicFunc(7));\n",
    "System.out.println(dObject.dynamicFunc(10));"
   ]
  },
  {
   "cell_type": "markdown",
   "metadata": {
    "collapsed": true
   },
   "source": [
    "> 분할 정복 알고리즘의 예는 별도 챕터에서 다루는 병합 정렬과 퀵 정렬을 통해 이해"
   ]
  },
  {
   "cell_type": "markdown",
   "metadata": {},
   "source": [
    "<div class=\"alert alert-block\" style=\"border: 1px solid #455A64;background-color:#ECEFF1;padding:5px;font-size:0.9em;\">\n",
    "본 자료와 관련 영상 컨텐츠는 저작권법 제25조 2항에 의해 보호를 받습니다. <br>본 컨텐츠 및 컨텐츠 일부 문구 등을 외부에 공개하거나, 요약해서 게시하지 말아주세요.<br>\n",
    "    <a href='https://www.fun-coding.org'>잔재미코딩(www.fun-coding.org) Dave Lee</a>\n",
    "</div>"
   ]
  }
 ],
 "metadata": {
  "kernelspec": {
   "display_name": "Java",
   "language": "java",
   "name": "java"
  },
  "language_info": {
   "codemirror_mode": "java",
   "file_extension": ".jshell",
   "mimetype": "text/x-java-source",
   "name": "Java",
   "pygments_lexer": "java",
   "version": "15.0.2+7-27"
  }
 },
 "nbformat": 4,
 "nbformat_minor": 4
}
