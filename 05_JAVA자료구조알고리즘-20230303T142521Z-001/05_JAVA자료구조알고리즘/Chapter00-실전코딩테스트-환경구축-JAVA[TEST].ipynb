{
 "cells": [
  {
   "cell_type": "markdown",
   "metadata": {},
   "source": [
    "<div class=\"alert alert-block\" style=\"border: 1px solid #455A64;background-color:#ECEFF1;padding:5px;font-size:0.9em;\">\n",
    "본 자료와 관련 영상 컨텐츠는 저작권법 제25조 2항에 의해 보호를 받습니다. <br>본 컨텐츠 및 컨텐츠 일부 문구 등을 외부에 공개하거나, 요약해서 게시하지 말아주세요.<br>\n",
    "    <a href='www.fun-coding.org'>잔재미코딩(www.fun-coding.org) Dave Lee</a>\n",
    "</div>"
   ]
  },
  {
   "cell_type": "markdown",
   "metadata": {},
   "source": [
    "### 빠른 입출력을 위한 BufferedReader, BufferedWriter, StringTokenizer, StringBuilder 정리"
   ]
  },
  {
   "cell_type": "markdown",
   "metadata": {},
   "source": [
    "### Scanner 와 BufferedReader/Writer\n",
    "\n",
    "> BufferedReader 가 Scanner 보다 더 빠름\n",
    "\n",
    "   - Scanner 는 java.util 패키지, BufferedReader/Writer 는 java.io 패키지\n",
    "   - Scanner 는 1024 char 만큼의 버퍼를 가지고, BufferedReader/Writer 는 8 * 1024 char 만큼의 버퍼를 가짐\n",
    "   - Scanner 는 키보드가 입력되는 순간, 즉시 프로그램에 전달, Buffered 사용 입력은 키보드 입력이 버퍼에 전송되고, 버퍼가 가득 차거나, 개항 문자가 있을 때, 한번에 프로그램에 데이터 전달\n",
    "   - BufferedReader는 동기화를 지원하여 멀티 쓰레드 환경에서 안전하고, Scanner는 동기화를 지원하지 않으므로, 멀티 쓰레드 환경에서 안전하지 않음\n",
    "   - **BufferedReader 가 Scanner 보다 더 빠름**\n",
    "     - Scanner 는 IO를 타고, 전송되고, BufferedReader 는 메모리에 일단 쌓아두었다가, 한꺼번에 전송하기 때문에, 많은 입력시에는 BufferedReader 가 결국은 빠름\n",
    "<img src=\"https://img1.daumcdn.net/thumb/R1280x0/?scode=mtistory2&fname=https%3A%2F%2Fblog.kakaocdn.net%2Fdn%2FbYIB07%2Fbtqw78Z308y%2FKsqnoZaTZlLkuQ0TeGhXe1%2Fimg.png\">\n",
    "\n",
    "> 따라서 BufferedReader 를 사용하세요!"
   ]
  },
  {
   "cell_type": "markdown",
   "metadata": {},
   "source": [
    "### BufferedReader 사용법 정리\n",
    "- Scanner 대신에 BufferedReader 사용하기\n",
    "- System.in 은 키보드로 부터 받아오는 표준 입력스트림 객체로 반환 형태는 InputStream 임\n",
    "  - InputStream 은 입력스트림으로부터 데이터를 byte 단위로 읽어오게 됨\n",
    "- InputStreamReader 은 인자로 InputStream 을 받아서, ReaderStream 으로 반환함\n",
    "  - ReaderStream 은 데이터를 char 단위로 처리함\n",
    "- BufferedReader 는 인자로 ReaderStream 을 받아서, 내부 버퍼를 사용하여 성능을 높임\n",
    "   - readLine() 메서드를 제공해서, 키보드로부터 한 라인의 입력을 받을 수 있음\n",
    "- throws IOException 을 해줘야 함\n",
    "- close() 를 호출안해도 크게 문제는 안되지만, 명시적으로 해줘도 됨"
   ]
  },
  {
   "cell_type": "code",
   "execution_count": 1,
   "metadata": {},
   "outputs": [
    {
     "name": "stdout",
     "output_type": "stream",
     "text": [
      "1 2 3 4 5 6\n",
      "1 2 3 4 5 6\n",
      "String\n",
      "1\n",
      "1\n",
      "Integer\n"
     ]
    }
   ],
   "source": [
    "import java.io.*;\n",
    "BufferedReader br = new BufferedReader(new InputStreamReader(System.in));\n",
    "String data1 = br.readLine(); // 기본적으로 String 으로 한 라인의 입력을 받을 수 있음\n",
    "System.out.println(data1);\n",
    "System.out.println(data1.getClass().getSimpleName()); // Class 이름 가져오기 (Class 타입 확인)\n",
    "\n",
    "Integer data2 = Integer.parseInt(br.readLine()); // 코딩 테스트시는 int 로 변환하는 케이스가 많음\n",
    "System.out.println(data2);\n",
    "System.out.println(data2.getClass().getSimpleName()); // Class 이름 가져오기 (Class 타입 확인)"
   ]
  },
  {
   "cell_type": "markdown",
   "metadata": {},
   "source": [
    "### BufferedWriter 사용법 정리 (참고)\n",
    "- System.out.prinln() 을 사용해도 큰 지장은 없음\n",
    "- 다만, 많은 양을 출력할 경우는 입력과 동일하게 버퍼를 사용하는 것이 성능상 유리함\n",
    "- throws IOException 을 해줘야 함\n",
    "- BufferedWriter 사용시, write() 만 호출하면, flush() 를 호출할 때까지는 출력되지 않음\n",
    "   - close() 를 마지막에 호출해서, 할당된 버퍼를 제거하는 것이 조금더 정석적인 방법임\n",
    "   \n",
    "<div class=\"alert alert-block\" style=\"border: 2px solid #E65100;background-color:#FFF3E0;padding:10px\">\n",
    "    <font size=\"3em\" style=\"font-weight:bold;color:#BF360C;\">BufferedWriter 는 참고로만 이해하로 함</font><br>\n",
    "<font size=\"3em\" style=\"color:#BF360C;\">코드가 번거롭고, System.out.println() 이 보다 안정적이고, </font><br>\n",
    "    <font size=\"3em\" style=\"color:#BF360C;\">출력 성능 개선이 필요한 경우는 StringBuilder 를 사용할 것이기 때문</font>\n",
    "</div>\n",
    "\n",
    "```java\n",
    "BufferedWriter bw = new BufferedWriter(new OutputStreamWriter(System.out)); // 선언\n",
    "String str = \"abcdef\";    // 출력할 문자열\n",
    "bw.write(str + \"\\n\");               // 출력\n",
    "bw.newLine();              // 줄바꿈 (BufferedWriter 의 write() 메서드는 자동 개행 기능이 없기 때문에, 별도 메서드 제공)\n",
    "bw.flush();                   // 남아있는 데이터 모두 출력\n",
    "bw.close();\n",
    "```"
   ]
  },
  {
   "cell_type": "markdown",
   "metadata": {},
   "source": [
    "### StringTokenizer 사용법 정리\n",
    "- 스페이스로 구분된 여러 숫자 입력 받기\n",
    "- 코딩 테스트에서는 한 라인에 띄어쓰기를 통해 '1 2 3 4' 와 같이 배열 데이터를 입력받아야 하는 케이스가 많음\n",
    "- 이를 readline().split(\" \") 을 통해서도 입력으로 받을 수 있음\n",
    "   - 하지만, split() 은 내부적으로 정규표현식을 기반으로 구현되어 있어서 내부 구조가 복잡 (성능 저하 우려가 있음)"
   ]
  },
  {
   "cell_type": "code",
   "execution_count": 3,
   "metadata": {},
   "outputs": [
    {
     "name": "stdout",
     "output_type": "stream",
     "text": [
      "1 2 3\n",
      "1\n",
      "2\n",
      "3\n"
     ]
    }
   ],
   "source": [
    "import java.io.*;\n",
    "\n",
    "BufferedReader br = new BufferedReader(new InputStreamReader(System.in));\n",
    "String[] data = br.readLine().split(\" \");\n",
    "for (int i = 0; i < data.length; i++) {\n",
    "    System.out.println(data[i]);\n",
    "}"
   ]
  },
  {
   "cell_type": "markdown",
   "metadata": {},
   "source": [
    "### StringTokenizer 사용을 통한 입력 처리 성능 개선\n",
    "- hasMoreTokens() 메서드로 분리된 토큰 데이터가 있는지 확인 가능\n",
    "- nextToken() 메서드로 다음 토큰 데이터 반환 가능"
   ]
  },
  {
   "cell_type": "code",
   "execution_count": 5,
   "metadata": {
    "scrolled": true
   },
   "outputs": [
    {
     "name": "stdout",
     "output_type": "stream",
     "text": [
      "1 2 3\n",
      "1\n",
      "2\n",
      "3\n"
     ]
    }
   ],
   "source": [
    "import java.io.*;\n",
    "\n",
    "BufferedReader br = new BufferedReader(new InputStreamReader(System.in));\n",
    "StringTokenizer st = new StringTokenizer(br.readLine(), \" \"); // new StringTokenizer(br.readLine()); 로 써도 디폴트가 \" \" 임 \n",
    "while (st.hasMoreTokens()) {\n",
    "    System.out.println(Integer.parseInt(st.nextToken()));\n",
    "}"
   ]
  },
  {
   "cell_type": "markdown",
   "metadata": {},
   "source": [
    "### 입력 데이터를 복사/붙여넣고, 실행 가능 템플릿 코드\n",
    "- 입력받기: BufferedReader + StringTokenizer \n",
    "- 출력하기: System.out.println\n",
    "\n",
    "- String inputData = \"\"\" \"\"\" 따옴표 안에 입력 데이터 한번에 복사/붙여넣기\n",
    "- System.setIn(new ByteArrayInputStream(inputData.getBytes())); 을 코드 내 써주면, System.in 입력 스트림을 문자열로부터 받을 수 있음\n",
    "\n",
    "<div class=\"alert alert-block\" style=\"border: 2px solid #E65100;background-color:#FFF3E0;padding:10px\">\n",
    "<font size=\"3em\" style=\"font-weight:bold;color:#BF360C;\">이렇게 하면 주피터 노트북서도 바로 테스트 가능함</font><br>\n",
    "    <font size=\"3em\" style=\"color:#BF360C;\">코드 제출시 String inputData 와 System.setIn 부분은 주석처리 후 제출</font>\n",
    "</div>"
   ]
  },
  {
   "cell_type": "code",
   "execution_count": 6,
   "metadata": {},
   "outputs": [
    {
     "name": "stdout",
     "output_type": "stream",
     "text": [
      "5\n",
      "[4, 1, 5, 2, 3]\n",
      "5\n",
      "[1, 3, 7, 9, 5]\n"
     ]
    }
   ],
   "source": [
    "import java.io.*;\n",
    "import java.util.ArrayList;\n",
    "import java.util.StringTokenizer;\n",
    "\n",
    "public class Main {\n",
    "    public static void main(String[] args) throws IOException {\n",
    "        \n",
    "        String inputData = \"\"\"\n",
    "        5\n",
    "        4 1 5 2 3\n",
    "        5\n",
    "        1 3 7 9 5\n",
    "        \"\"\";\n",
    "        System.setIn(new ByteArrayInputStream(inputData.getBytes()));\n",
    "        \n",
    "        BufferedReader br = new BufferedReader(new InputStreamReader(System.in));\n",
    "        // BufferedWriter bw = new BufferedWriter(new OutputStreamWriter(System.out));\n",
    "        ArrayList<Integer> arr1 = new ArrayList<>();\n",
    "        ArrayList<Integer> arr2 = new ArrayList<>();\n",
    "\n",
    "        int N = Integer.parseInt(br.readLine());\n",
    "        System.out.println(N);\n",
    "        // bw.write(N + \"\\n\");\n",
    "        StringTokenizer st = new StringTokenizer(br.readLine());\n",
    "        while (st.hasMoreTokens()) {\n",
    "            arr1.add(Integer.parseInt(st.nextToken()));\n",
    "        }\n",
    "        System.out.println(arr1);\n",
    "        //bw.write(arr1 + \"\\n\");\n",
    "\n",
    "        int M = Integer.parseInt(br.readLine());\n",
    "        System.out.println(M);        \n",
    "        // bw.write(M + \"\\n\");\n",
    "        st = new StringTokenizer(br.readLine());\n",
    "        while (st.hasMoreTokens()) {\n",
    "            arr2.add(Integer.parseInt(st.nextToken()));\n",
    "        }\n",
    "        System.out.println(arr2);        \n",
    "        // bw.write(arr2 + \"\\n\");\n",
    "        // bw.flush();\n",
    "        // bw.close();        \n",
    "    }\n",
    "}\n",
    "Main.main(new String[0]);"
   ]
  },
  {
   "cell_type": "markdown",
   "metadata": {},
   "source": [
    "### String, StringBuffer, 그리고 StringBuilder (참고)\n",
    "\n",
    "<div class=\"alert alert-block\" style=\"border: 2px solid #E65100;background-color:#FFF3E0;padding:10px\">\n",
    "<font size=\"3em\" style=\"color:#BF360C;\">String 을 사용한다면, String 보다 StringBuilder 를 사용하는 것이 성능이 빠름</font>\n",
    "</div>\n",
    "\n",
    "<div class=\"alert alert-block\" style=\"border: 2px solid #E65100;background-color:#FFF3E0;padding:10px\">\n",
    "    <font size=\"4em\" style=\"color:#BF360C;\"><b>코딩 테스트 팁</b></font><br>\n",
    "<font size=\"4em\" style=\"color:#BF360C;\">문자열을 다루는 문제는 시간이 괜찮다면, StringBuilder 를 사용하기 (성능 개선 가능)</font><br>\n",
    "<font size=\"4em\" style=\"color:#BF360C;\">코딩 테스트 제출시 시간초과가 나는 경우, StringBuilder 를 사용하여 출력 성능 개선 가능</font>\n",
    "</div>\n",
    "\n",
    "- String은 불변(Immutable), StringBuffer와 StringBuilder는 변함(Mutable)\n",
    "   - String 객체는 한번 생성되면 할당된 메모리 공간이 변하지 않음\n",
    "   - concat 또는 + 등의 연산자로 기존에 생성된 String 문자열에 다른 문자열을 붙이는 경우, 기존 문자열 객체를 놔두고, 새로운 String 객체를 생성한 후, 전체 문자열을 가진 새로운 String 객체를 생성\n",
    "      - 기존 String 객체는 Garbage 가 됨\n",
    "        <img src=\"https://dejavuhyo.github.io/assets/img/2020-11-27-string-stringbuffer-stringbuilder/img001.png\">\n",
    "\n",
    "- 이와 달리, StringBuilder 와 StringBuffer 는 기존 문자열 객체의 문자열이 늘어날 경우, 이를 유연하게 해당 객체가 차지하는 크기를 늘려서 처리함 \n",
    "   - 즉, 별도 객체를 생성하는 것이 아니고, 기존 객체에 버퍼를 두어서, 버퍼를 늘려서 추가된 문자열까지 저장함\n",
    "       <img src=\"https://dejavuhyo.github.io/assets/img/2020-11-27-string-stringbuffer-stringbuilder/img002.png\">\n",
    "       \n",
    "- StringBuffer 는 동기화 지원, StringBuilder 는 동기화 지원하지 않음\n",
    "   - 일반적인 환경에서는 동기화를 지원하지 않는 경우가, 기본적으로 빠름\n",
    "   - 따라서, 보통의 케이스에서는 StringBuilder 를 사용함"
   ]
  },
  {
   "cell_type": "code",
   "execution_count": 7,
   "metadata": {},
   "outputs": [
    {
     "name": "stdout",
     "output_type": "stream",
     "text": [
      "SB 붙이기\n",
      "다음라인\n"
     ]
    }
   ],
   "source": [
    "StringBuilder sb = new StringBuilder(\"SB\");\n",
    "sb.append(\" 붙이기\");\n",
    "sb.append(\"\\n\");\n",
    "sb.append(\"다음라인\");\n",
    "System.out.println(sb);  // 본래는 출력을 별도로 해줘야 하지만, 주피터노트북상에서는 해당 구문 없이 바로 코드 실행 완료시 화면에 출력함"
   ]
  },
  {
   "cell_type": "markdown",
   "metadata": {},
   "source": [
    "<div class=\"alert alert-block\" style=\"border: 2px solid #E65100;background-color:#FFF3E0;padding:10px\">\n",
    "    <font size=\"4em\" style=\"color:#BF360C;\"><b>연습문제</b></font><br>\n",
    "<font size=\"4em\" style=\"color:#BF360C;\">다음 각 문제에 대해 입력을 그대로 받아서, System.out.println() 으로 출력해보기</font><br>\n",
    "<font size=\"4em\" style=\"color:#BF360C;\">입력을 받는 부분에 대한 연습으로, 문제를 풀지는 마세요~</font>\n",
    "</div>"
   ]
  },
  {
   "cell_type": "markdown",
   "metadata": {},
   "source": [
    "1. 연습문제: 윤년 https://www.acmicpc.net/problem/2753"
   ]
  },
  {
   "cell_type": "code",
   "execution_count": 8,
   "metadata": {},
   "outputs": [
    {
     "name": "stdout",
     "output_type": "stream",
     "text": [
      "2000\n"
     ]
    }
   ],
   "source": []
  },
  {
   "cell_type": "markdown",
   "metadata": {},
   "source": [
    "2. 연습문제: 알람 시계 https://www.acmicpc.net/problem/2884"
   ]
  },
  {
   "cell_type": "code",
   "execution_count": 9,
   "metadata": {},
   "outputs": [
    {
     "name": "stdout",
     "output_type": "stream",
     "text": [
      "[10, 10]\n"
     ]
    }
   ],
   "source": []
  },
  {
   "cell_type": "markdown",
   "metadata": {},
   "source": [
    "3. 연습문제: 최소, 최대 2 https://www.acmicpc.net/problem/20053"
   ]
  },
  {
   "cell_type": "code",
   "execution_count": 10,
   "metadata": {},
   "outputs": [
    {
     "name": "stdout",
     "output_type": "stream",
     "text": [
      "3\n",
      "5\n",
      "[20, 28, 22, 25, 21]\n",
      "5\n",
      "[30, 21, 17, 25, 29]\n",
      "5\n",
      "[20, 10, 35, 30, 7]\n"
     ]
    }
   ],
   "source": []
  },
  {
   "cell_type": "markdown",
   "metadata": {},
   "source": [
    "4. 연습문제: 회문 https://www.acmicpc.net/problem/17609"
   ]
  },
  {
   "cell_type": "code",
   "execution_count": 12,
   "metadata": {},
   "outputs": [
    {
     "name": "stdout",
     "output_type": "stream",
     "text": [
      "7\n",
      "abba\n",
      "summuus\n",
      "xabba\n",
      "xabbay\n",
      "comcom\n",
      "comwwmoc\n",
      "comwwtmoc\n"
     ]
    }
   ],
   "source": []
  },
  {
   "cell_type": "markdown",
   "metadata": {},
   "source": [
    "<div class=\"alert alert-block\" style=\"border: 1px solid #455A64;background-color:#ECEFF1;padding:5px;font-size:0.9em;\">\n",
    "본 자료와 관련 영상 컨텐츠는 저작권법 제25조 2항에 의해 보호를 받습니다. <br>본 컨텐츠 및 컨텐츠 일부 문구 등을 외부에 공개하거나, 요약해서 게시하지 말아주세요.<br>\n",
    "    <a href='www.fun-coding.org'>잔재미코딩(www.fun-coding.org) Dave Lee</a>\n",
    "</div>"
   ]
  }
 ],
 "metadata": {
  "kernelspec": {
   "display_name": "Java",
   "language": "java",
   "name": "java"
  },
  "language_info": {
   "codemirror_mode": "java",
   "file_extension": ".jshell",
   "mimetype": "text/x-java-source",
   "name": "Java",
   "pygments_lexer": "java",
   "version": "15.0.2+7-27"
  }
 },
 "nbformat": 4,
 "nbformat_minor": 4
}
