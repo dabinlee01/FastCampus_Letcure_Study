{
 "cells": [
  {
   "cell_type": "markdown",
   "id": "b6c20b4b",
   "metadata": {
    "pycharm": {
     "name": "#%% md\n"
    }
   },
   "source": [
    "<div class=\"alert alert-block\" style=\"border: 1px solid #455A64;background-color:#ECEFF1;padding:5px;font-size:0.9em;\">\n",
    "본 자료와 관련 영상 컨텐츠는 저작권법 제25조 2항에 의해 보호를 받습니다. <br>본 컨텐츠 및 컨텐츠 일부 문구 등을 외부에 공개하거나, 요약해서 게시하지 말아주세요.<br>\n",
    "    <a href='https://www.fun-coding.org'>잔재미코딩(www.fun-coding.org) Dave Lee</a>\n",
    "</div>"
   ]
  },
  {
   "cell_type": "markdown",
   "id": "e2b78fa0",
   "metadata": {},
   "source": [
    "### 0. 알고리즘 연습 방법\n",
    "* 알고리즘을 잘 작성하기 위해서는 잘 작성된 알고리즘을 이해하고, 스스로 만들어봐야 함\n",
    "  - 모사! 그림을 잘 그리기 위해서는 잘 그린 그림을 모방하는 것부터 시작\n",
    "\n",
    "> 이번 챕터부터 알고리즘 시작입니다.!"
   ]
  },
  {
   "cell_type": "markdown",
   "id": "268a538d",
   "metadata": {},
   "source": [
    "<div class=\"alert alert-block\" style=\"border: 1px solid #FFB300;background-color:#F9FBE7;font-size:1em;line-height:1.4em\">\n",
    "<font size=\"5em\" style=\"font-weight:bold;color:#3f8dbf;\">알고리즘 연습 방법</font><br><br>\n",
    "1. 연습장과 펜을 준비합니다. <br><br>\n",
    "2. 알고리즘 문제를 읽고 분석한 후에, <br><br>\n",
    "3. 간단하게 테스트용으로 매우 간단한 경우부터 복잡한 경우 순서대로 생각해보면서, 연습장과 펜을 이용하여 알고리즘을 생각해봅니다. <br><br>\n",
    "4. 가능한 알고리즘이 보인다면, 구현할 알고리즘을 세부 항목으로 나누고, 문장으로 세부 항목을 나누어서 적어봅니다. <br><br>\n",
    "5. 코드화하기 위해, 데이터 구조 또는 사용할 변수를 정리하고, <br><br>\n",
    "6. 각 문장을 코드 레벨로 적습니다. <br><br>\n",
    "7. 변수가 코드에 따라 어떻게 변하는지를 손으로 적으면서, 임의 데이터로 코드가 정상 동작하는지를 연습장과 펜으로 검증합니다. <br>\n",
    "    \n",
    "</div>"
   ]
  },
  {
   "cell_type": "markdown",
   "id": "093f0258",
   "metadata": {},
   "source": [
    "<div class=\"alert alert-block\" style=\"border: 1px solid #FFB300;background-color:#F9FBE7;font-size:1em;line-height:1.4em\">\n",
    "<font size=\"4em\" style=\"font-weight:bold;color:#3f8dbf;\">연습해보기: </font><br><br>\n",
    "- 정수 4를 1, 2, 3의 조합으로 나타내는 방법은 다음과 같이 총 7가지가 있음\n",
    "- 정수 n이 입력으로 주어졌을 때, n을 1, 2, 3의 합으로 나타낼 수 있는 방법의 수를 구하시오\n",
    "<pre>\n",
    "1+1+1+1\n",
    "1+1+2\n",
    "1+2+1\n",
    "2+1+1\n",
    "2+2\n",
    "1+3\n",
    "3+1\n",
    "</pre>    \n",
    "\n",
    "힌트: 정수 n을 만들 수 있는 경우의 수를 리턴하는 함수를 f(n) 이라고 하면,<br>\n",
    "f(n)은 f(n-1) + f(n-2) + f(n-3) 과 동일하다는 패턴 찾기<br>\n",
    "출처: https://www.acmicpc.net/problem/9095\n",
    "</div>"
   ]
  },
  {
   "cell_type": "markdown",
   "id": "ffa1dab6",
   "metadata": {},
   "source": [
    "### 문제 분석을 연습장에 작성해 본 예\n",
    "<img src=\"https://www.fun-coding.org/00_Images/algopractice.jpg\" />"
   ]
  },
  {
   "cell_type": "markdown",
   "id": "d6671975",
   "metadata": {},
   "source": [
    "### 재귀 함수 이용 풀이"
   ]
  },
  {
   "cell_type": "code",
   "execution_count": 1,
   "id": "2d698470",
   "metadata": {},
   "outputs": [],
   "source": [
    "public class Main {\n",
    "    public int recursiveFunc(int data) {\n",
    "        if (data == 1) { \n",
    "            return 1;\n",
    "        } else if (data == 2) {\n",
    "            return 2;\n",
    "        } else if (data == 3) {\n",
    "            return 4;\n",
    "        }\n",
    "        \n",
    "        return recursiveFunc(data - 1) + recursiveFunc(data - 2) + recursiveFunc(data - 3);\n",
    "    }   \n",
    "}"
   ]
  },
  {
   "cell_type": "code",
   "execution_count": 2,
   "id": "dd40aa8f",
   "metadata": {},
   "outputs": [
    {
     "name": "stdout",
     "output_type": "stream",
     "text": [
      "7\n",
      "44\n",
      "274\n"
     ]
    }
   ],
   "source": [
    "Main dObject = new Main();\n",
    "System.out.println(dObject.recursiveFunc(4));\n",
    "System.out.println(dObject.recursiveFunc(7));\n",
    "System.out.println(dObject.recursiveFunc(10));"
   ]
  },
  {
   "cell_type": "markdown",
   "id": "36a1a056",
   "metadata": {},
   "source": [
    "### 동적 계획법 이용 풀이"
   ]
  },
  {
   "cell_type": "code",
   "execution_count": 3,
   "id": "c3f10a25",
   "metadata": {},
   "outputs": [],
   "source": [
    "public class Dynamic {\n",
    "    public int dynamicFunc(int data) {\n",
    "        Integer[] cache = new Integer[data + 1];\n",
    "        cache[1] = 1;\n",
    "        cache[2] = 2;\n",
    "        cache[3] = 4;        \n",
    "        for (int index = 4; index < data + 1; index++) {\n",
    "            cache[index] = cache[index - 1] + cache[index - 2] + cache[index - 3];\n",
    "        }\n",
    "        return cache[data];\n",
    "    }   \n",
    "}"
   ]
  },
  {
   "cell_type": "code",
   "execution_count": 4,
   "id": "77ffa337",
   "metadata": {},
   "outputs": [
    {
     "name": "stdout",
     "output_type": "stream",
     "text": [
      "7\n",
      "44\n",
      "274\n"
     ]
    }
   ],
   "source": [
    "Dynamic dObject = new Dynamic();\n",
    "System.out.println(dObject.dynamicFunc(4));\n",
    "System.out.println(dObject.dynamicFunc(7));\n",
    "System.out.println(dObject.dynamicFunc(10));"
   ]
  },
  {
   "cell_type": "markdown",
   "id": "28db5a69",
   "metadata": {
    "pycharm": {
     "name": "#%% md\n"
    }
   },
   "source": [
    "### 실전 코딩 테스트 - 구현/시뮬레이션"
   ]
  },
  {
   "cell_type": "markdown",
   "id": "e69211e6",
   "metadata": {},
   "source": [
    "<div class=\"alert alert-block\" style=\"border: 2px solid #E65100;background-color:#FFF3E0;padding:10px\">\n",
    "<font size=\"4em\" style=\"color:#BF360C;\">알고리즘 유형 중, 가장 일반적이고, 특별한 코딩 패턴이 없는 기본 유형</font><br>\n",
    "    <font size=\"4em\" style=\"color:#BF360C;\">자료구조, 알고리즘 이해 없이도, 풀 수 있으며, 이를 통해, 코딩 테스트 자체에 익숙해지기로 함</font>\n",
    "</div>"
   ]
  },
  {
   "cell_type": "markdown",
   "id": "fe4ec0ec",
   "metadata": {},
   "source": [
    "### 1. 연습문제:  윤년 https://www.acmicpc.net/problem/2753"
   ]
  },
  {
   "cell_type": "code",
   "execution_count": null,
   "id": "0e645395",
   "metadata": {},
   "outputs": [],
   "source": [
    "import java.io.*;\n",
    "\n",
    "public class Main {\n",
    "    public static void main(String[] args) throws IOException {\n",
    "        String inputData = \"\"\"\n",
    "        2000\n",
    "        \"\"\";        \n",
    "        System.setIn(new ByteArrayInputStream(inputData.getBytes()));\n",
    "        \n",
    "        BufferedReader br = new BufferedReader(new InputStreamReader(System.in));\n",
    "\n",
    "        int N = Integer.parseInt(br.readLine());\n",
    "\n",
    "        if ((N % 4 == 0 && N % 100 != 0) || (N % 400 == 0)) {\n",
    "            System.out.println(1);\n",
    "        } else {\n",
    "            System.out.println(0);\n",
    "        }\n",
    "    }\n",
    "}\n",
    "Main.main(new String[0]);"
   ]
  },
  {
   "cell_type": "markdown",
   "id": "e19b4f50",
   "metadata": {},
   "source": [
    "### 2. 연습문제: 알람 시계 https://www.acmicpc.net/problem/2884"
   ]
  },
  {
   "cell_type": "markdown",
   "id": "c868ed99",
   "metadata": {},
   "source": [
    "<div class=\"alert alert-block\" style=\"border: 2px solid #E65100;background-color:#FFF3E0;padding:10px\">\n",
    "<font size=\"4em\" style=\"font-weight:bold;color:#BF360C;\">코딩 테스트 이해</font><br><br>\n",
    "<font size=\"3em\" style=\"color:#BF360C;\">코딩 테스트는 문제가 길고, 아이큐 테스트 느낌으로 힌트를 찾아야 하는 문제도 많음</font><br>\n",
    "<font size=\"3em\" style=\"color:#BF360C;\">이러한 문제들은 특정 코딩 테스트 유형/코딩 패턴이 있는 문제도 마찬가지임</font><br>\n",
    "<font size=\"3em\" style=\"color:#BF360C;\">이러한 문제들은 많이 풀어보는 방법밖에 없음</font><br>\n",
    "</div>"
   ]
  },
  {
   "cell_type": "code",
   "execution_count": 6,
   "id": "13ea44c6",
   "metadata": {},
   "outputs": [
    {
     "name": "stdout",
     "output_type": "stream",
     "text": [
      "9 25\n"
     ]
    }
   ],
   "source": [
    "import java.io.*;\n",
    "import java.util.StringTokenizer;\n",
    "\n",
    "public class Main {\n",
    "    public static void main(String[] args) throws IOException {\n",
    "        String inputData = \"\"\"\n",
    "        10 10\n",
    "        \"\"\";\n",
    "        System.setIn(new ByteArrayInputStream(inputData.getBytes()));\n",
    "\n",
    "        BufferedReader br = new BufferedReader(new InputStreamReader(System.in));\n",
    "        String str = br.readLine();\n",
    "        StringTokenizer st = new StringTokenizer(str);\n",
    "        int H = Integer.parseInt(st.nextToken());\n",
    "        int M = Integer.parseInt(st.nextToken());\n",
    "\n",
    "        if (M >= 45) {\n",
    "            System.out.println(H + \" \" + (M - 45));\n",
    "        } else if (H > 0 && M < 45) {\n",
    "            System.out.println((H - 1) + \" \" + (M + 15));\n",
    "        } else {\n",
    "            System.out.println(23 + \" \" + (M + 15));\n",
    "        }\n",
    "    }\n",
    "}\n",
    "Main.main(new String[0]);"
   ]
  },
  {
   "cell_type": "markdown",
   "id": "c7968942",
   "metadata": {},
   "source": [
    "### 3. 연습문제:  최소, 최대 2 https://www.acmicpc.net/problem/20053\n",
    "\n",
    "<div class=\"alert alert-block\" style=\"border: 2px solid #E65100;background-color:#FFF3E0;padding:10px\">\n",
    "<font size=\"4em\" style=\"font-weight:bold;color:#BF360C;\">코딩 테스트 팁</font><br><br>\n",
    "<font size=\"3em\" style=\"color:#BF360C;\">드물지만, 코딩 테스트시 알아두면 좋은 팁이 가끔 있음 (특별히 많지는 않음)</font><br>\n",
    "<font size=\"3em\" style=\"color:#BF360C;\">JAVA 코딩 테스트 시는 Arrays.sort() 를 통해, 최소, 최대값을 구할 수 있음</font>\n",
    "</div>"
   ]
  },
  {
   "cell_type": "code",
   "execution_count": 7,
   "id": "21170902",
   "metadata": {},
   "outputs": [
    {
     "name": "stdout",
     "output_type": "stream",
     "text": [
      "20 28\n",
      "17 30\n",
      "7 35\n"
     ]
    }
   ],
   "source": [
    "import java.io.BufferedReader;\n",
    "import java.io.ByteArrayInputStream;\n",
    "import java.io.IOException;\n",
    "import java.io.InputStreamReader;\n",
    "import java.util.Arrays;\n",
    "import java.util.StringTokenizer;\n",
    "\n",
    "public class Main {\n",
    "    public static void main(String[] args) throws IOException {\n",
    "        String inputData = \"\"\"\n",
    "        3\n",
    "        5\n",
    "        20 28 22 25 21\n",
    "        5\n",
    "        30 21 17 25 29\n",
    "        5\n",
    "        20 10 35 30 7\n",
    "        \"\"\";\n",
    "        System.setIn(new ByteArrayInputStream(inputData.getBytes()));\n",
    "        BufferedReader br = new BufferedReader(new InputStreamReader(System.in));\n",
    "        int T = Integer.parseInt(br.readLine());\n",
    "        for(int t = 0; t < T; t++){\n",
    "            int N = Integer.parseInt(br.readLine());\n",
    "            int arr[] = new int[N];\n",
    "\n",
    "            StringTokenizer st = new StringTokenizer(br.readLine());\n",
    "            for(int i = 0; i < N; i++){\n",
    "                arr[i] = Integer.parseInt(st.nextToken());\n",
    "            }\n",
    "            Arrays.sort(arr);\n",
    "            System.out.println(arr[0] + \" \" + arr[N-1]);\n",
    "        }\n",
    "    }\n",
    "}\n",
    "Main.main(new String[0]);"
   ]
  },
  {
   "cell_type": "markdown",
   "id": "dcbc7d48",
   "metadata": {},
   "source": [
    "### 4. 연습문제: 약수 구하기 https://www.acmicpc.net/problem/2501\n",
    "<div class=\"alert alert-block\" style=\"border: 2px solid #E65100;background-color:#FFF3E0;padding:10px\">\n",
    "<font size=\"4em\" style=\"font-weight:bold;color:#BF360C;\">구현/시뮬레이션 코딩 테스트 팁</font><br><br>\n",
    "<font size=\"3em\" style=\"color:#BF360C;\">문제를 꼼꼼하게 읽고, 문제에서 제시한 바를 그대로 구현하면 됨</font><br>\n",
    "</div>"
   ]
  },
  {
   "cell_type": "code",
   "execution_count": 20,
   "id": "fdcd7ab9",
   "metadata": {},
   "outputs": [
    {
     "name": "stdout",
     "output_type": "stream",
     "text": [
      "1\n"
     ]
    }
   ],
   "source": [
    "import java.io.BufferedReader;\n",
    "import java.io.ByteArrayInputStream;\n",
    "import java.io.IOException;\n",
    "import java.io.InputStreamReader;\n",
    "import java.util.StringTokenizer;\n",
    "\n",
    "public class Main {\n",
    "    public static void main(String[] args) throws IOException {\n",
    "        String inputData = \"\"\"\n",
    "        2735 1\n",
    "        \"\"\";\n",
    "        System.setIn(new ByteArrayInputStream(inputData.getBytes()));\n",
    "\n",
    "        BufferedReader br = new BufferedReader(new InputStreamReader(System.in));\n",
    "        StringTokenizer st = new StringTokenizer(br.readLine());\n",
    "        int N = Integer.parseInt(st.nextToken());\n",
    "        int K = Integer.parseInt(st.nextToken());\n",
    "        int result = 0;\n",
    "\n",
    "        for (int index = 1; index < N + 1; index++) {\n",
    "            if (N % index == 0) {\n",
    "                K--;\n",
    "                if (K == 0) {\n",
    "                    result = index;\n",
    "                    break;\n",
    "                }\n",
    "            }\n",
    "        }\n",
    "        if (K > 0) {\n",
    "            System.out.println(0);\n",
    "        } else {\n",
    "            System.out.println(result);\n",
    "        }\n",
    "    }\n",
    "}"
   ]
  },
  {
   "cell_type": "markdown",
   "id": "5eeac394",
   "metadata": {},
   "source": [
    "### 5. 연습문제: 더하기 사이클 https://www.acmicpc.net/problem/1110\n",
    "\n",
    "<div class=\"alert alert-block\" style=\"border: 2px solid #E65100;background-color:#FFF3E0;padding:10px\">\n",
    "<font size=\"4em\" style=\"font-weight:bold;color:#BF360C;\">구현/시뮬레이션 코딩 테스트 팁</font><br><br>\n",
    "<font size=\"3em\" style=\"color:#BF360C;\">문제를 꼼꼼하게 읽고, 문제에서 제시한 바를 그대로 구현하면 됨</font><br>\n",
    "</div>"
   ]
  },
  {
   "cell_type": "markdown",
   "id": "7878dd43",
   "metadata": {},
   "source": [
    "### 힌트"
   ]
  },
  {
   "cell_type": "code",
   "execution_count": 9,
   "id": "5d13f9c9",
   "metadata": {},
   "outputs": [
    {
     "name": "stdout",
     "output_type": "stream",
     "text": [
      "2\n",
      "5\n"
     ]
    }
   ],
   "source": [
    "int data = 25;\n",
    "System.out.println(data / 10); // 2의 자리수\n",
    "System.out.println(data % 10); // 1의 자리수"
   ]
  },
  {
   "cell_type": "markdown",
   "id": "d16b1313",
   "metadata": {},
   "source": [
    "### 문제풀이"
   ]
  },
  {
   "cell_type": "code",
   "execution_count": 37,
   "id": "5a84198b",
   "metadata": {},
   "outputs": [
    {
     "name": "stdout",
     "output_type": "stream",
     "text": [
      "4\n"
     ]
    }
   ],
   "source": [
    "import java.io.BufferedReader;\n",
    "import java.io.ByteArrayInputStream;\n",
    "import java.io.IOException;\n",
    "import java.io.InputStreamReader;\n",
    "\n",
    "public class Main {\n",
    "    public static void main(String[] args) throws IOException {\n",
    "        String inputData = \"\"\"\n",
    "        26\n",
    "        \"\"\";\n",
    "        System.setIn(new ByteArrayInputStream(inputData.getBytes()));\n",
    "\n",
    "        BufferedReader br = new BufferedReader(new InputStreamReader(System.in));\n",
    "        int N = Integer.parseInt(br.readLine());\n",
    "        int updateNum = N;\n",
    "        int count = 0;\n",
    "        int A = 0;\n",
    "        int B = 0;\n",
    "        int C = 0;\n",
    "\n",
    "        while (true) {\n",
    "            A = updateNum / 10; // 10의 자리수\n",
    "            B = updateNum % 10; // 1의 자리수\n",
    "            C = (A + B) % 10; // 두 자리 수를 더한 값의 1의 자리수\n",
    "            updateNum = (B * 10) + C; // 본래의 1의 자리수 X 10 + 두 자리 수를 더한 값의 1의 자리수\n",
    "            count++;\n",
    "            if (updateNum == N) {\n",
    "                break;\n",
    "            }\n",
    "        }\n",
    "        System.out.println(count);\n",
    "    }\n",
    "}"
   ]
  },
  {
   "cell_type": "markdown",
   "id": "c74fe95b",
   "metadata": {},
   "source": [
    "### 6. 연습문제: 회문 https://www.acmicpc.net/problem/17609"
   ]
  },
  {
   "cell_type": "markdown",
   "id": "1e389166",
   "metadata": {},
   "source": [
    "<div class=\"alert alert-block\" style=\"border: 2px solid #E65100;background-color:#FFF3E0;padding:10px\">\n",
    "<font size=\"4em\" style=\"font-weight:bold;color:#BF360C;\">문자열 문제 코딩 테스트 팁</font><br><br>\n",
    "<font size=\"3em\" style=\"color:#BF360C;\">StringBuilder 를 사용하면, 성능 개선 가능, 따라서 StringBuilder 관련 사용법에 익숙해지기로 함</font>\n",
    "</div>"
   ]
  },
  {
   "cell_type": "markdown",
   "id": "239ab210",
   "metadata": {},
   "source": [
    "### 문제 풀이"
   ]
  },
  {
   "cell_type": "code",
   "execution_count": 26,
   "id": "389caa88",
   "metadata": {},
   "outputs": [
    {
     "name": "stdout",
     "output_type": "stream",
     "text": [
      "0\n",
      "1\n",
      "1\n",
      "2\n",
      "2\n",
      "0\n",
      "1\n"
     ]
    }
   ],
   "source": [
    "import java.io.BufferedReader;\n",
    "import java.io.ByteArrayInputStream;\n",
    "import java.io.IOException;\n",
    "import java.io.InputStreamReader;\n",
    "\n",
    "public class Main {\n",
    "    public static void main(String[] args) throws IOException {\n",
    "        String inputData = \"\"\"\n",
    "        7\n",
    "        abba\n",
    "        summuus\n",
    "        xabba\n",
    "        xabbay\n",
    "        comcom\n",
    "        comwwmoc\n",
    "        comwwtmoc\n",
    "        \"\"\";\n",
    "        System.setIn(new ByteArrayInputStream(inputData.getBytes()));\n",
    "\n",
    "        BufferedReader br = new BufferedReader(new InputStreamReader(System.in));\n",
    "        int T = Integer.parseInt(br.readLine());\n",
    "        for (int index = 0; index < T; index++) {\n",
    "            String N = br.readLine();\n",
    "            System.out.println(IsPalindrome(N));\n",
    "        }\n",
    "    }\n",
    "\n",
    "    public static int IsPalindrome(String word) {\n",
    "        String candidate;\n",
    "        String reverse;\n",
    "        int left = 0;\n",
    "        int right = word.length() - 1;\n",
    "\n",
    "        while (left < right) {\n",
    "            // 양끝이 동일하면 하나씩 앞으로 당김\n",
    "            if (word.charAt(left) == word.charAt(right)) {\n",
    "                left += 1;\n",
    "                right -= 1;\n",
    "            } else {\n",
    "                // 양끝이 다르면, 왼쪽, 또는 오른쪽 문자열 제거 후 회문이 되는지 확인\n",
    "                if (left < right - 1) {\n",
    "                    candidate = new StringBuilder(word).deleteCharAt(right).toString();\n",
    "                    reverse = new StringBuilder(candidate).reverse().toString();\n",
    "                    if(candidate.equals(reverse)) {\n",
    "                        return 1;\n",
    "                    }\n",
    "                }\n",
    "                if (left + 1 < right) {\n",
    "                    candidate = new StringBuilder(word).deleteCharAt(left).toString();\n",
    "                    reverse = new StringBuilder(candidate).reverse().toString();\n",
    "                    if(candidate.equals(reverse)) {\n",
    "                        return 1;\n",
    "                    }\n",
    "                }\n",
    "                // 회문, 유사회문 둘다 안된 케이스\n",
    "                return 2;\n",
    "            }\n",
    "        }\n",
    "        // 회문\n",
    "        return 0;\n",
    "    }\n",
    "}"
   ]
  },
  {
   "cell_type": "markdown",
   "id": "a3be9c08",
   "metadata": {},
   "source": [
    "<div class=\"alert alert-block\" style=\"border: 1px solid #455A64;background-color:#ECEFF1;padding:5px;font-size:0.9em;\">\n",
    "본 자료와 관련 영상 컨텐츠는 저작권법 제25조 2항에 의해 보호를 받습니다. <br>본 컨텐츠 및 컨텐츠 일부 문구 등을 외부에 공개하거나, 요약해서 게시하지 말아주세요.<br>\n",
    "    <a href='https://www.fun-coding.org'>잔재미코딩(www.fun-coding.org) Dave Lee</a>\n",
    "</div>"
   ]
  }
 ],
 "metadata": {
  "kernelspec": {
   "display_name": "Java",
   "language": "java",
   "name": "java"
  },
  "language_info": {
   "codemirror_mode": "java",
   "file_extension": ".jshell",
   "mimetype": "text/x-java-source",
   "name": "Java",
   "pygments_lexer": "java",
   "version": "15.0.2+7-27"
  }
 },
 "nbformat": 4,
 "nbformat_minor": 5
}
